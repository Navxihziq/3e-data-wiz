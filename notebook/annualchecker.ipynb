{
 "cells": [
  {
   "cell_type": "code",
   "execution_count": 27,
   "outputs": [],
   "source": [
    "import pandas as pd"
   ],
   "metadata": {
    "collapsed": false,
    "pycharm": {
     "name": "#%%\n"
    }
   }
  },
  {
   "cell_type": "code",
   "execution_count": 28,
   "outputs": [],
   "source": [
    "# load 2 sheets and concat them together\n",
    "\n",
    "data_1 = pd.read_excel(\"/Users/zhixuan/PycharmProjects/3e-data-wiz/example-files/example_data/level1.xlsx\").iloc[:, 1:6]\n",
    "data_1.columns = ['省下区域', '技术', '星期', '时刻', 'Level']\n",
    "data_1['年份'] = 2030\n",
    "\n",
    "data_2  = pd.read_excel(\"/Users/zhixuan/PycharmProjects/3e-data-wiz/example-files/example_data/level2.xlsx\").iloc[:, 1:6]\n",
    "data_2.columns = ['省下区域', '技术', '星期', '时刻', 'Level']\n",
    "data_2['年份'] = 2030\n",
    "\n",
    "data = pd.concat(objs=[data_1, data_2], axis='index', join='inner', ignore_index=True)"
   ],
   "metadata": {
    "collapsed": false,
    "pycharm": {
     "name": "#%%\n"
    }
   }
  },
  {
   "cell_type": "code",
   "execution_count": 29,
   "outputs": [],
   "source": [
    "data = data.groupby(by=['年份', '省下区域', '技术']).sum().reset_index()"
   ],
   "metadata": {
    "collapsed": false,
    "pycharm": {
     "name": "#%%\n"
    }
   }
  },
  {
   "cell_type": "code",
   "execution_count": 30,
   "outputs": [],
   "source": [
    "data.to_excel(\"/Users/zhixuan/PycharmProjects/3e-data-wiz/example-files/example_data/checking_annual.xlsx\")"
   ],
   "metadata": {
    "collapsed": false,
    "pycharm": {
     "name": "#%%\n"
    }
   }
  },
  {
   "cell_type": "code",
   "execution_count": 31,
   "outputs": [],
   "source": [
    "annual_check = pd.read_excel(\"/Users/zhixuan/PycharmProjects/3e-data-wiz/example-files/example_data/annualcheck.xlsx\").iloc[:, 1:]\n",
    "\n",
    "annual_check.columns = ['年份', '区域', '省份', '省下区域', '技术', 'Electricity Generation (GWh)', 'Planned Curtailment (GWh)', 'Hydrogen Production (MWh)', 'Hydrogen Production (10000 Ton)', 'Heat Generation (TJ)']\n",
    "\n",
    "annual_check = annual_check[['年份', '区域', '省份', '省下区域', '技术', 'Hydrogen Production (MWh)', 'Hydrogen Production (10000 Ton)']]"
   ],
   "metadata": {
    "collapsed": false,
    "pycharm": {
     "name": "#%%\n"
    }
   }
  },
  {
   "cell_type": "code",
   "execution_count": 35,
   "outputs": [],
   "source": [
    "checker = pd.merge(annual_check, data, on=['年份','省下区域', '技术'], how='left')\n",
    "checker.to_excel(\"/Users/zhixuan/PycharmProjects/3e-data-wiz/example-files/example_data/checking_annual.xlsx\")"
   ],
   "metadata": {
    "collapsed": false,
    "pycharm": {
     "name": "#%%\n"
    }
   }
  },
  {
   "cell_type": "code",
   "execution_count": 32,
   "outputs": [],
   "source": [],
   "metadata": {
    "collapsed": false,
    "pycharm": {
     "name": "#%%\n"
    }
   }
  }
 ],
 "metadata": {
  "kernelspec": {
   "display_name": "Python 3",
   "language": "python",
   "name": "python3"
  },
  "language_info": {
   "codemirror_mode": {
    "name": "ipython",
    "version": 2
   },
   "file_extension": ".py",
   "mimetype": "text/x-python",
   "name": "python",
   "nbconvert_exporter": "python",
   "pygments_lexer": "ipython2",
   "version": "2.7.6"
  }
 },
 "nbformat": 4,
 "nbformat_minor": 0
}