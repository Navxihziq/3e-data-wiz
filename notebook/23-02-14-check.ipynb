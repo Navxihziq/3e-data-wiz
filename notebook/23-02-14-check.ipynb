{
 "cells": [
  {
   "cell_type": "code",
   "execution_count": 1,
   "outputs": [],
   "source": [
    "import pandas as pd"
   ],
   "metadata": {
    "collapsed": false,
    "pycharm": {
     "name": "#%%\n"
    }
   }
  },
  {
   "cell_type": "code",
   "execution_count": 35,
   "outputs": [],
   "source": [
    "base_path = '/Users/zhixuan/PycharmProjects/3e-data-wiz/example-files/example_data/23-02-14/'\n",
    "first_cols = ['ignore', 'year', 'region', 'area', 'subarea', 'tech group']\n",
    "\n",
    "def check_dfs(df1: pd.DataFrame, df2: pd.DataFrame, col_name: str) -> pd.DataFrame:\n",
    "    df1.columns = first_cols + list(df1.columns)[6:]\n",
    "    df2.columns = first_cols + list(df2.columns)[6:]\n",
    "    return df1.groupby(by=['year']).sum()[col_name].compare(df2.groupby(by=['year']).sum()[col_name])\n",
    "\n",
    "def check_files(keyword: str, focused_col: str):\n",
    "    df1 = pd.read_excel(f\"{base_path}72-{keyword}.xlsx\")\n",
    "    df2 = pd.read_excel(f\"{base_path}144-{keyword}.xlsx\")\n",
    "    rst = check_dfs(df1, df2, focused_col)\n",
    "    rst.to_excel(f\"/Users/zhixuan/Desktop/temp/2023-02-14/{keyword}.xlsx\")\n",
    "    return rst"
   ],
   "metadata": {
    "collapsed": false,
    "pycharm": {
     "name": "#%%\n"
    }
   }
  },
  {
   "cell_type": "code",
   "execution_count": 38,
   "outputs": [
    {
     "data": {
      "text/plain": "              self         other\nyear                            \n2020  4.431915e+06  4.431043e+06\n2025  4.489092e+06  4.496895e+06\n2030  4.012612e+06  3.972623e+06\n2035  4.541552e+06  4.521725e+06\n2040  3.282861e+06  3.234587e+06\n2045  1.910186e+06  1.886595e+06\n2050  8.155075e+05  7.940446e+05\n2055  7.268752e+05  7.182074e+05\n2060  7.012876e+05  6.851308e+05",
      "text/html": "<div>\n<style scoped>\n    .dataframe tbody tr th:only-of-type {\n        vertical-align: middle;\n    }\n\n    .dataframe tbody tr th {\n        vertical-align: top;\n    }\n\n    .dataframe thead th {\n        text-align: right;\n    }\n</style>\n<table border=\"1\" class=\"dataframe\">\n  <thead>\n    <tr style=\"text-align: right;\">\n      <th></th>\n      <th>self</th>\n      <th>other</th>\n    </tr>\n    <tr>\n      <th>year</th>\n      <th></th>\n      <th></th>\n    </tr>\n  </thead>\n  <tbody>\n    <tr>\n      <th>2020</th>\n      <td>4.431915e+06</td>\n      <td>4.431043e+06</td>\n    </tr>\n    <tr>\n      <th>2025</th>\n      <td>4.489092e+06</td>\n      <td>4.496895e+06</td>\n    </tr>\n    <tr>\n      <th>2030</th>\n      <td>4.012612e+06</td>\n      <td>3.972623e+06</td>\n    </tr>\n    <tr>\n      <th>2035</th>\n      <td>4.541552e+06</td>\n      <td>4.521725e+06</td>\n    </tr>\n    <tr>\n      <th>2040</th>\n      <td>3.282861e+06</td>\n      <td>3.234587e+06</td>\n    </tr>\n    <tr>\n      <th>2045</th>\n      <td>1.910186e+06</td>\n      <td>1.886595e+06</td>\n    </tr>\n    <tr>\n      <th>2050</th>\n      <td>8.155075e+05</td>\n      <td>7.940446e+05</td>\n    </tr>\n    <tr>\n      <th>2055</th>\n      <td>7.268752e+05</td>\n      <td>7.182074e+05</td>\n    </tr>\n    <tr>\n      <th>2060</th>\n      <td>7.012876e+05</td>\n      <td>6.851308e+05</td>\n    </tr>\n  </tbody>\n</table>\n</div>"
     },
     "execution_count": 38,
     "metadata": {},
     "output_type": "execute_result"
    }
   ],
   "source": [
    "# check capacity\n",
    "focused_col = 'CO2 Emissions (kilotons)'\n",
    "check_files('emission', focused_col)"
   ],
   "metadata": {
    "collapsed": false,
    "pycharm": {
     "name": "#%%\n"
    }
   }
  },
  {
   "cell_type": "code",
   "execution_count": null,
   "outputs": [],
   "source": [],
   "metadata": {
    "collapsed": false,
    "pycharm": {
     "name": "#%%\n"
    }
   }
  }
 ],
 "metadata": {
  "kernelspec": {
   "display_name": "Python 3",
   "language": "python",
   "name": "python3"
  },
  "language_info": {
   "codemirror_mode": {
    "name": "ipython",
    "version": 2
   },
   "file_extension": ".py",
   "mimetype": "text/x-python",
   "name": "python",
   "nbconvert_exporter": "python",
   "pygments_lexer": "ipython2",
   "version": "2.7.6"
  }
 },
 "nbformat": 4,
 "nbformat_minor": 0
}