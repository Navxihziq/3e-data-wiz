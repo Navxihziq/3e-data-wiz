{
 "cells": [
  {
   "cell_type": "code",
   "execution_count": 1,
   "outputs": [],
   "source": [
    "import time_tech_aggregation as tta\n",
    "import seaborn as sns\n",
    "import matplotlib.pyplot as plt\n",
    "from mplfonts import use_font"
   ],
   "metadata": {
    "collapsed": false,
    "pycharm": {
     "name": "#%%\n"
    }
   }
  },
  {
   "cell_type": "code",
   "execution_count": 2,
   "outputs": [],
   "source": [
    "use_font('Songti SC')"
   ],
   "metadata": {
    "collapsed": false,
    "pycharm": {
     "name": "#%%\n"
    }
   }
  },
  {
   "cell_type": "code",
   "execution_count": 3,
   "outputs": [],
   "source": [
    "first_path = '/Users/zhixuan/PycharmProjects/3e-data-wiz/example-files/example_data/level1.xlsx'\n",
    "second_path = '/Users/zhixuan/PycharmProjects/3e-data-wiz/example-files/example_data/level2.xlsx'\n",
    "ref_path = '/Users/zhixuan/PycharmProjects/3e-data-wiz/example-files/color_index.xlsx'\n",
    "\n",
    "data = tta.Data(first_path, second_path, ref_path=ref_path)"
   ],
   "metadata": {
    "collapsed": false,
    "pycharm": {
     "name": "#%%\n"
    }
   }
  },
  {
   "cell_type": "code",
   "execution_count": 3,
   "outputs": [],
   "source": [],
   "metadata": {
    "collapsed": false,
    "pycharm": {
     "name": "#%%\n"
    }
   }
  }
 ],
 "metadata": {
  "kernelspec": {
   "display_name": "Python 3",
   "language": "python",
   "name": "python3"
  },
  "language_info": {
   "codemirror_mode": {
    "name": "ipython",
    "version": 2
   },
   "file_extension": ".py",
   "mimetype": "text/x-python",
   "name": "python",
   "nbconvert_exporter": "python",
   "pygments_lexer": "ipython2",
   "version": "2.7.6"
  }
 },
 "nbformat": 4,
 "nbformat_minor": 0
}