{
 "cells": [
  {
   "cell_type": "code",
   "execution_count": null,
   "outputs": [],
   "source": [
    "from data_wiz import *\n",
    "from mplfonts.bin.cli import init\n",
    "from mplfonts import use_font"
   ],
   "metadata": {
    "collapsed": false,
    "pycharm": {
     "name": "#%%\n"
    }
   }
  },
  {
   "cell_type": "code",
   "execution_count": null,
   "outputs": [],
   "source": [
    "file_index_list = [\n",
    "    {\n",
    "        \"path\": \"/Users/zhixuan/PycharmProjects/3e-data-wiz/example-files/情景1排放.xlsx\",\n",
    "        \"focused_index\": \"CO2 Emissions (kilotons)\",\n",
    "        \"columns\": [\"CO2 Emissions (kilotons)\", \"NOX Emissions (tons)\", \"SO2 Emissions (tons)\", \"CO2 Emissions from G&B H2 Production (kilotons)\", \"CO2 Emissions from COG H2 Production (kilotons)\", \"CO2 Emissions from H2 Production (kilotons)\"]\n",
    "    },\n",
    "    {\n",
    "        \"path\": \"/Users/zhixuan/PycharmProjects/3e-data-wiz/example-files/情景1产量.xlsx\",\n",
    "        \"focused_index\": \"Electricity Generation (GWh)\",\n",
    "        \"columns\": [\"Electricity Generation (GWh)\", \"Planned Curtailment (GWh)\", \"Hydrogen Production (MWh)\",\n",
    "                    \"Hydrogen Production (10000 Ton)\", \"Heat Generation (TJ)\"]\n",
    "    }\n",
    "]\n",
    "\n",
    "ref = RefData(\"/Users/zhixuan/PycharmProjects/3e-data-wiz/example-files/color_index.xlsx\")\n",
    "data = WorkingData(file_index_list, ref)\n",
    "data.rule_out('省下区域', selected_region=['Heilongjiang_A'], region_select_reverse=False,\n",
    "              selected_tech_group=['压缩空气储能', '化学储能'], tech_group_select_reverse=True)\n",
    "data.calc_complex_index('CO2 Emissions (kilotons)', 'Electricity Generation (GWh)', tech_specific=True)\n",
    "data.draw(\"Electricity Generation (GWh)\", focused_region='Heilongjiang_A', scatter=False)"
   ],
   "metadata": {
    "collapsed": false,
    "pycharm": {
     "name": "#%%\n"
    }
   }
  },
  {
   "cell_type": "code",
   "execution_count": null,
   "outputs": [],
   "source": [],
   "metadata": {
    "collapsed": false,
    "pycharm": {
     "name": "#%%\n"
    }
   }
  }
 ],
 "metadata": {
  "kernelspec": {
   "display_name": "Python 3",
   "language": "python",
   "name": "python3"
  },
  "language_info": {
   "codemirror_mode": {
    "name": "ipython",
    "version": 2
   },
   "file_extension": ".py",
   "mimetype": "text/x-python",
   "name": "python",
   "nbconvert_exporter": "python",
   "pygments_lexer": "ipython2",
   "version": "2.7.6"
  }
 },
 "nbformat": 4,
 "nbformat_minor": 0
}