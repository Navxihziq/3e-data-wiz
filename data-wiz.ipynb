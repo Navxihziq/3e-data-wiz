{
 "cells": [
  {
   "cell_type": "code",
   "execution_count": 69,
   "metadata": {
    "collapsed": true,
    "pycharm": {
     "name": "#%%\n"
    }
   },
   "outputs": [],
   "source": [
    "import pandas as pd\n",
    "import matplotlib.pyplot as plt"
   ]
  },
  {
   "cell_type": "code",
   "execution_count": 70,
   "outputs": [],
   "source": [
    "# the default first 5 indexes of headers\n",
    "header_first_5 = ['nonsense', '年份', '电网区域', '省份', '省下区域', 'Tech']"
   ],
   "metadata": {
    "collapsed": false,
    "pycharm": {
     "name": "#%%\n"
    }
   }
  },
  {
   "cell_type": "code",
   "execution_count": 71,
   "outputs": [],
   "source": [
    "class DataFromSheet:\n",
    "    def __init__(self, path_to_sheet: str):\n",
    "        self.path = path_to_sheet\n",
    "        self.dataframe = pd.read_excel(self.path)"
   ],
   "metadata": {
    "collapsed": false,
    "pycharm": {
     "name": "#%%\n"
    }
   }
  },
  {
   "cell_type": "code",
   "execution_count": 72,
   "outputs": [],
   "source": [
    "class WorkingData(DataFromSheet):\n",
    "    def __init__(self, path_to_sheet: str, columns: list):\n",
    "        super().__init__(path_to_sheet)\n",
    "        self.columns = header_first_5 + columns\n",
    "\n",
    "    def rule_out(self, focused_index: str, tech_fuel_dict: dict, regional_agg_level: str):\n",
    "        \"\"\"\n",
    "        reads data from the path\n",
    "        :return: pd.Dataframe\n",
    "        \"\"\"\n",
    "        self.dataframe.columns = self.columns   # set the column names of the dataframe\n",
    "        self.dataframe = self.dataframe[header_first_5+[focused_index]]  # select the column of the interested index\n",
    "        self.dataframe['Fuel_Group'] = self.dataframe['Tech'].map(tech_fuel_dict)   # map the fuel group value based on the passed dict\n",
    "        if not regional_agg_level == '全国':\n",
    "            self.dataframe = self.dataframe.groupby(by=['年份', 'Fuel_Group', regional_agg_level]).sum().reset_index()\n",
    "        else:\n",
    "            self.dataframe = self.dataframe.groupby(by=['年份', 'Fuel_Group']).sum().reset_index()\n",
    "        return self.dataframe"
   ],
   "metadata": {
    "collapsed": false,
    "pycharm": {
     "name": "#%%\n"
    }
   }
  },
  {
   "cell_type": "code",
   "execution_count": 73,
   "outputs": [],
   "source": [
    "class Utils(DataFromSheet):\n",
    "    def __init__(self, path_to_sheet):\n",
    "        super().__init__(path_to_sheet)\n",
    "        self.color_scheme = self.read_color_scheme()\n",
    "        self.tech_fuel_group_dict = self.read_fuel_group()\n",
    "\n",
    "    def read_color_scheme(self)->dict:\n",
    "        \"\"\"\n",
    "        get the color assigned for each bar\n",
    "        :return: Dict\n",
    "        \"\"\"\n",
    "        color_scheme = dict(self.dataframe[['Fuel_Group', \"HEX\"]].values)\n",
    "        return color_scheme\n",
    "\n",
    "    def read_stack_order(self, tech: list)->list:\n",
    "        \"\"\"\n",
    "        :param tech: list of names of technologies (unique) appeared in sheet\n",
    "        :return: the ordered list of header for stacked plot\n",
    "        \"\"\"\n",
    "        return []\n",
    "\n",
    "    def read_fuel_group(self)->dict:\n",
    "        \"\"\"\n",
    "        read the dictionary of tech and fuel groups\n",
    "        :return: the dictionary used for conversion\n",
    "        \"\"\"\n",
    "        return dict(self.dataframe[['Tech', 'Fuel_Group']].values)"
   ],
   "metadata": {
    "collapsed": false,
    "pycharm": {
     "name": "#%%\n"
    }
   }
  },
  {
   "cell_type": "code",
   "execution_count": 74,
   "outputs": [
    {
     "data": {
      "text/plain": "         年份 Fuel_Group                  省份  Installed Power Capacity (MW)\n0    2020.0        SMR               Hebei                       0.000000\n1    2020.0         光热             Beijing                       1.000000\n2    2020.0         光热               Gansu                     210.000000\n3    2020.0         光热              Hainan                      10.000000\n4    2020.0         光热             Qinghai                     210.000000\n..      ...        ...                 ...                            ...\n986  2035.0      集中式光伏  West-InnerMongolia                    7634.000000\n987  2035.0      集中式光伏            Xinjiang                   12340.000000\n988  2035.0      集中式光伏              Xizang                    1370.000000\n989  2035.0      集中式光伏              Yunnan                   47320.324480\n990  2035.0      集中式光伏            Zhejiang                   89607.131298\n\n[991 rows x 4 columns]",
      "text/html": "<div>\n<style scoped>\n    .dataframe tbody tr th:only-of-type {\n        vertical-align: middle;\n    }\n\n    .dataframe tbody tr th {\n        vertical-align: top;\n    }\n\n    .dataframe thead th {\n        text-align: right;\n    }\n</style>\n<table border=\"1\" class=\"dataframe\">\n  <thead>\n    <tr style=\"text-align: right;\">\n      <th></th>\n      <th>年份</th>\n      <th>Fuel_Group</th>\n      <th>省份</th>\n      <th>Installed Power Capacity (MW)</th>\n    </tr>\n  </thead>\n  <tbody>\n    <tr>\n      <th>0</th>\n      <td>2020.0</td>\n      <td>SMR</td>\n      <td>Hebei</td>\n      <td>0.000000</td>\n    </tr>\n    <tr>\n      <th>1</th>\n      <td>2020.0</td>\n      <td>光热</td>\n      <td>Beijing</td>\n      <td>1.000000</td>\n    </tr>\n    <tr>\n      <th>2</th>\n      <td>2020.0</td>\n      <td>光热</td>\n      <td>Gansu</td>\n      <td>210.000000</td>\n    </tr>\n    <tr>\n      <th>3</th>\n      <td>2020.0</td>\n      <td>光热</td>\n      <td>Hainan</td>\n      <td>10.000000</td>\n    </tr>\n    <tr>\n      <th>4</th>\n      <td>2020.0</td>\n      <td>光热</td>\n      <td>Qinghai</td>\n      <td>210.000000</td>\n    </tr>\n    <tr>\n      <th>...</th>\n      <td>...</td>\n      <td>...</td>\n      <td>...</td>\n      <td>...</td>\n    </tr>\n    <tr>\n      <th>986</th>\n      <td>2035.0</td>\n      <td>集中式光伏</td>\n      <td>West-InnerMongolia</td>\n      <td>7634.000000</td>\n    </tr>\n    <tr>\n      <th>987</th>\n      <td>2035.0</td>\n      <td>集中式光伏</td>\n      <td>Xinjiang</td>\n      <td>12340.000000</td>\n    </tr>\n    <tr>\n      <th>988</th>\n      <td>2035.0</td>\n      <td>集中式光伏</td>\n      <td>Xizang</td>\n      <td>1370.000000</td>\n    </tr>\n    <tr>\n      <th>989</th>\n      <td>2035.0</td>\n      <td>集中式光伏</td>\n      <td>Yunnan</td>\n      <td>47320.324480</td>\n    </tr>\n    <tr>\n      <th>990</th>\n      <td>2035.0</td>\n      <td>集中式光伏</td>\n      <td>Zhejiang</td>\n      <td>89607.131298</td>\n    </tr>\n  </tbody>\n</table>\n<p>991 rows × 4 columns</p>\n</div>"
     },
     "execution_count": 74,
     "metadata": {},
     "output_type": "execute_result"
    }
   ],
   "source": [
    "path_to_data = '/Users/zhixuan/PycharmProjects/3e-data-wiz/example-files/情景1产能.xlsx'\n",
    "path_to_ref = '/Users/zhixuan/PycharmProjects/3e-data-wiz/example-files/color_index.xlsx'\n",
    "columns = [\"Installed Power Capacity (MW)\", \"Installed Heat Capacity (MW)\", \"Installed Hydrogen Production Capacity (MW)\"]\n",
    "focused_index = 'Installed Power Capacity (MW)'\n",
    "regional_agg_level = '省份'\n",
    "utils = Utils(path_to_ref)\n",
    "WorkingData(path_to_data, columns).rule_out(focused_index, utils.tech_fuel_group_dict, regional_agg_level)"
   ],
   "metadata": {
    "collapsed": false,
    "pycharm": {
     "name": "#%%\n"
    }
   }
  },
  {
   "cell_type": "markdown",
   "source": [],
   "metadata": {
    "collapsed": false,
    "pycharm": {
     "name": "#%% md\n"
    }
   }
  },
  {
   "cell_type": "code",
   "execution_count": 74,
   "outputs": [],
   "source": [],
   "metadata": {
    "collapsed": false,
    "pycharm": {
     "name": "#%%\n"
    }
   }
  }
 ],
 "metadata": {
  "kernelspec": {
   "display_name": "Python 3",
   "language": "python",
   "name": "python3"
  },
  "language_info": {
   "codemirror_mode": {
    "name": "ipython",
    "version": 2
   },
   "file_extension": ".py",
   "mimetype": "text/x-python",
   "name": "python",
   "nbconvert_exporter": "python",
   "pygments_lexer": "ipython2",
   "version": "2.7.6"
  }
 },
 "nbformat": 4,
 "nbformat_minor": 0
}