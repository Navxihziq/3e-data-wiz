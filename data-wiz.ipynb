{
 "cells": [
  {
   "cell_type": "code",
   "execution_count": 1,
   "metadata": {
    "collapsed": true,
    "pycharm": {
     "name": "#%%\n"
    }
   },
   "outputs": [],
   "source": [
    "import pandas as pd\n",
    "import matplotlib.pyplot as plt"
   ]
  },
  {
   "cell_type": "code",
   "execution_count": null,
   "outputs": [],
   "source": [
    "# the default first 5 indexes of headers\n",
    "header_first_5 = ['nonsense', '年份', '电网区域', '省份', '省下区域', 'Tech']"
   ],
   "metadata": {
    "collapsed": false,
    "pycharm": {
     "name": "#%%\n"
    }
   }
  },
  {
   "cell_type": "code",
   "execution_count": null,
   "outputs": [],
   "source": [
    "class DataSheet:\n",
    "    def __init__(self, path_to_data, columns, focused_column):\n",
    "        self.path = path_to_data\n",
    "        self.columns = columns\n",
    "        self.focused_column = focused_column\n",
    "        self.dataframe = self.raed_data()\n",
    "\n",
    "    def raed_data(self):\n",
    "        \"\"\"\n",
    "        reads data from the path\n",
    "        :return: pd.Dataframe\n",
    "        \"\"\"\n",
    "        dataframe = pd.read_excel(self.path)\n",
    "        dataframe.columns = header_first_5 + self.columns\n",
    "\n",
    "        return dataframe"
   ],
   "metadata": {
    "collapsed": false,
    "pycharm": {
     "name": "#%%\n"
    }
   }
  },
  {
   "cell_type": "code",
   "execution_count": 2,
   "outputs": [],
   "source": [
    "class Utils:\n",
    "    def __init__(self, path_to_ref):\n",
    "        self.path = path_to_ref\n",
    "\n",
    "    def get_color_scheme(self):\n",
    "        \"\"\"\n",
    "        get the color assigned for each bar\n",
    "        :return:\n",
    "        \"\"\""
   ],
   "metadata": {
    "collapsed": false,
    "pycharm": {
     "name": "#%%\n"
    }
   }
  },
  {
   "cell_type": "code",
   "execution_count": 6,
   "outputs": [
    {
     "data": {
      "text/plain": "[     Unnamed: 0    年份       电网区域            省份            省下区域  \\\n 0        output  2020  Northeast  Heilongjiang  Heilongjiang_A   \n 1        output  2020  Northeast  Heilongjiang  Heilongjiang_A   \n 2        output  2020  Northeast  Heilongjiang  Heilongjiang_A   \n 3        output  2020  Northeast  Heilongjiang  Heilongjiang_A   \n 4        output  2020  Northeast  Heilongjiang  Heilongjiang_A   \n ...         ...   ...        ...           ...             ...   \n 3516     output  2035       East      Zhejiang           ZJ_C2   \n 3517     output  2035       East      Zhejiang           ZJ_C3   \n 3518     output  2035       East      Zhejiang           ZJ_C3   \n 3519     output  2035       East      Zhejiang           ZJ_C3   \n 3520     output  2035       East      Zhejiang           ZJ_C4   \n \n                        技术  Electricity Generation (GWh)  \\\n 0        Circu_vul_bed_CO                     45.000000   \n 1         Highpressure_CO                    457.500000   \n 2          Subcritical_CO                   2445.000000   \n 3       Subcritical_CO600                   1800.000000   \n 4     Supercritical_CO600                   2700.000000   \n ...                   ...                           ...   \n 3516         SolarPV-2035                  10505.364486   \n 3517    Wind-onshore-2030                  35516.312640   \n 3518         SolarPV-2030                  13128.134400   \n 3519    Wind-onshore-2035                  42540.865007   \n 3520         SolarPV-2030                  24030.968400   \n \n       Planned Curtailment (GWh)  Hydrogen Production (MWh)  \\\n 0                           NaN                        NaN   \n 1                           NaN                        NaN   \n 2                           NaN                        NaN   \n 3                           NaN                        NaN   \n 4                           NaN                        NaN   \n ...                         ...                        ...   \n 3516              -4.408918e-13                        NaN   \n 3517                        NaN                        NaN   \n 3518                        NaN                        NaN   \n 3519               1.728203e+03                        NaN   \n 3520                        NaN                        NaN   \n \n       Hydrogen Production (10000 Ton)  Heat Generation (TJ)  \n 0                                 NaN                   NaN  \n 1                                 NaN                   NaN  \n 2                                 NaN                   NaN  \n 3                                 NaN                   NaN  \n 4                                 NaN                   NaN  \n ...                               ...                   ...  \n 3516                              NaN                   NaN  \n 3517                              NaN                   NaN  \n 3518                              NaN                   NaN  \n 3519                              NaN                   NaN  \n 3520                              NaN                   NaN  \n \n [3521 rows x 11 columns],\n      Unnamed: 0      年份       电网区域            省份            省下区域  \\\n 0        output  2020.0  Northeast  Heilongjiang  Heilongjiang_A   \n 1        output  2020.0  Northeast  Heilongjiang  Heilongjiang_A   \n 2        output  2020.0  Northeast  Heilongjiang  Heilongjiang_A   \n 3        output  2020.0  Northeast  Heilongjiang  Heilongjiang_A   \n 4        output  2020.0  Northeast  Heilongjiang  Heilongjiang_A   \n ...         ...     ...        ...           ...             ...   \n 3522        NaN  2035.0       East      Zhejiang           ZJ_C2   \n 3523        NaN  2035.0       East      Zhejiang           ZJ_C3   \n 3524        NaN  2035.0       East      Zhejiang           ZJ_C3   \n 3525        NaN  2035.0       East      Zhejiang           ZJ_C3   \n 3526        NaN  2035.0       East      Zhejiang           ZJ_C4   \n \n                        技术  Installed Power Capacity (MW)  \\\n 0        Circu_vul_bed_CO                      30.000000   \n 1         Highpressure_CO                     305.000000   \n 2          Subcritical_CO                    1630.000000   \n 3       Subcritical_CO600                    1200.000000   \n 4     Supercritical_CO600                    1800.000000   \n ...                   ...                            ...   \n 3522         SolarPV-2035                    9855.308347   \n 3523    Wind-onshore-2030                   12936.191091   \n 3524         SolarPV-2030                   11118.000000   \n 3525    Wind-onshore-2035                   17915.808909   \n 3526         SolarPV-2030                   20492.000000   \n \n       Installed Heat Capacity (MW)  \\\n 0                              NaN   \n 1                              NaN   \n 2                              NaN   \n 3                              NaN   \n 4                              NaN   \n ...                            ...   \n 3522                           NaN   \n 3523                           NaN   \n 3524                           NaN   \n 3525                           NaN   \n 3526                           NaN   \n \n       Installed Hydrogen Production Capacity (MW)  \n 0                                             NaN  \n 1                                             NaN  \n 2                                             NaN  \n 3                                             NaN  \n 4                                             NaN  \n ...                                           ...  \n 3522                                          NaN  \n 3523                                          NaN  \n 3524                                          NaN  \n 3525                                          NaN  \n 3526                                          NaN  \n \n [3527 rows x 9 columns]]"
     },
     "execution_count": 6,
     "metadata": {},
     "output_type": "execute_result"
    }
   ],
   "source": [
    "# read files\n",
    "ref = pd.read_excel(path_to_ref)\n",
    "data_sheets = []\n",
    "\n",
    "# join the sheets based on 省下区域 and 年份\n",
    "for path in path_to_data.keys():\n",
    "\n",
    "    data_sheet = pd.read_excel(path)\n",
    "    data_sheets.append(data_sheet)\n",
    "\n",
    "data_sheets"
   ],
   "metadata": {
    "collapsed": false,
    "pycharm": {
     "name": "#%%\n"
    }
   }
  },
  {
   "cell_type": "markdown",
   "source": [],
   "metadata": {
    "collapsed": false,
    "pycharm": {
     "name": "#%% md\n"
    }
   }
  },
  {
   "cell_type": "code",
   "execution_count": 3,
   "outputs": [],
   "source": [],
   "metadata": {
    "collapsed": false,
    "pycharm": {
     "name": "#%%\n"
    }
   }
  }
 ],
 "metadata": {
  "kernelspec": {
   "display_name": "Python 3",
   "language": "python",
   "name": "python3"
  },
  "language_info": {
   "codemirror_mode": {
    "name": "ipython",
    "version": 2
   },
   "file_extension": ".py",
   "mimetype": "text/x-python",
   "name": "python",
   "nbconvert_exporter": "python",
   "pygments_lexer": "ipython2",
   "version": "2.7.6"
  }
 },
 "nbformat": 4,
 "nbformat_minor": 0
}