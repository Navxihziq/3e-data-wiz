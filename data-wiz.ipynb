{
 "cells": [
  {
   "cell_type": "code",
   "execution_count": 4,
   "metadata": {
    "collapsed": true,
    "pycharm": {
     "name": "#%%\n"
    }
   },
   "outputs": [],
   "source": [
    "import pandas as pd\n",
    "import matplotlib.pyplot as plt"
   ]
  },
  {
   "cell_type": "code",
   "execution_count": null,
   "outputs": [],
   "source": [
    "# variables\n",
    "\n",
    "# paths\n",
    "'''specify the path(s) to data sheet(s) and the corresponding focused index(es), support up to 2 files;\n",
    "e.g. {'./data0.xlsx': 'Installed Power Capacity (MW)', './data1.xlsx': 'power generation'}\n",
    "'''\n",
    "path_to_data = {'./example-files/情景1产量.xlsx': 'Electricity Generation (GWh)', './example-files/情景1产能.xlsx': 'Installed Power Capacity (MW)'}\n",
    "path_to_ref = './example-files/color_index.xlsx' # specify the path to the reference file\n"
   ],
   "metadata": {
    "collapsed": false,
    "pycharm": {
     "name": "#%%\n"
    }
   }
  },
  {
   "cell_type": "code",
   "execution_count": null,
   "outputs": [],
   "source": [
    "# read files\n",
    "ref = pd.read_excel(path_to_ref)\n",
    "\n",
    "if len(path_to_data)==2:\n",
    "    bar_df_path = list(path_to_data)[0]\n",
    "    bar_df_focused_index = list(path_to_data.values())[0]\n",
    "    bar_df = pd.read_excel(bar_df_path)\n",
    "\n"
   ],
   "metadata": {
    "collapsed": false,
    "pycharm": {
     "name": "#%%\n"
    }
   }
  },
  {
   "cell_type": "markdown",
   "source": [],
   "metadata": {
    "collapsed": false,
    "pycharm": {
     "name": "#%% md\n"
    }
   }
  },
  {
   "cell_type": "code",
   "execution_count": 5,
   "outputs": [],
   "source": [],
   "metadata": {
    "collapsed": false,
    "pycharm": {
     "name": "#%%\n"
    }
   }
  }
 ],
 "metadata": {
  "kernelspec": {
   "display_name": "Python 3",
   "language": "python",
   "name": "python3"
  },
  "language_info": {
   "codemirror_mode": {
    "name": "ipython",
    "version": 2
   },
   "file_extension": ".py",
   "mimetype": "text/x-python",
   "name": "python",
   "nbconvert_exporter": "python",
   "pygments_lexer": "ipython2",
   "version": "2.7.6"
  }
 },
 "nbformat": 4,
 "nbformat_minor": 0
}